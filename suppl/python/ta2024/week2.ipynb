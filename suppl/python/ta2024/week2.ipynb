{
  "nbformat": 4,
  "nbformat_minor": 0,
  "metadata": {
    "colab": {
      "provenance": []
    },
    "kernelspec": {
      "name": "python3",
      "display_name": "Python 3"
    },
    "language_info": {
      "name": "python"
    }
  },
  "cells": [
    {
      "cell_type": "code",
      "execution_count": null,
      "metadata": {
        "colab": {
          "base_uri": "https://localhost:8080/"
        },
        "id": "NCa2szba84rY",
        "outputId": "9e58eb28-e89f-4b5a-aa1f-17e867dafad4"
      },
      "outputs": [
        {
          "output_type": "stream",
          "name": "stdout",
          "text": [
            "hello world\n"
          ]
        }
      ],
      "source": [
        "print(\"hello world\")"
      ]
    },
    {
      "cell_type": "code",
      "source": [
        "print('hello world')"
      ],
      "metadata": {
        "colab": {
          "base_uri": "https://localhost:8080/"
        },
        "id": "OJDSJzTiDy5u",
        "outputId": "dbdac7f4-6e7e-434f-bba5-7e460e3a3381"
      },
      "execution_count": null,
      "outputs": [
        {
          "output_type": "stream",
          "name": "stdout",
          "text": [
            "hello world\n"
          ]
        }
      ]
    },
    {
      "cell_type": "code",
      "source": [
        "print(\"\"\"hello world\n",
        "  abc\n",
        "  Hey!\n",
        "\"\"\")"
      ],
      "metadata": {
        "colab": {
          "base_uri": "https://localhost:8080/"
        },
        "id": "piqAwbZCD2h0",
        "outputId": "20d7247d-bc60-4162-f584-cc29316ce0bb"
      },
      "execution_count": null,
      "outputs": [
        {
          "output_type": "stream",
          "name": "stdout",
          "text": [
            "hello world\n",
            "  abc\n",
            "  Hey!\n",
            "\n"
          ]
        }
      ]
    },
    {
      "cell_type": "code",
      "source": [
        "s = \"Bob\"\n",
        "c = \"bob\"\n",
        "b = \"Barak\""
      ],
      "metadata": {
        "id": "cYyo7yj-FHQb"
      },
      "execution_count": null,
      "outputs": []
    },
    {
      "cell_type": "code",
      "source": [
        "print(s,\"bob\",b, \"abc\")\n"
      ],
      "metadata": {
        "colab": {
          "base_uri": "https://localhost:8080/"
        },
        "id": "wobpIVS7FI_D",
        "outputId": "80f68e0a-2a03-488e-94ad-2f31fe76fbe0"
      },
      "execution_count": null,
      "outputs": [
        {
          "output_type": "stream",
          "name": "stdout",
          "text": [
            "Bob bob Barak abc\n"
          ]
        }
      ]
    },
    {
      "cell_type": "code",
      "source": [
        "x = True\n",
        "print(x)"
      ],
      "metadata": {
        "colab": {
          "base_uri": "https://localhost:8080/"
        },
        "id": "gomY9q_GFSwr",
        "outputId": "a0f20fd9-2ea4-46f5-8e8f-18b044517bea"
      },
      "execution_count": null,
      "outputs": [
        {
          "output_type": "stream",
          "name": "stdout",
          "text": [
            "True\n"
          ]
        }
      ]
    },
    {
      "cell_type": "code",
      "source": [
        "x = 1\n",
        "print(x)"
      ],
      "metadata": {
        "colab": {
          "base_uri": "https://localhost:8080/"
        },
        "id": "i8StTE38I0mb",
        "outputId": "55b1882a-60a5-475a-97df-4890da7dcff1"
      },
      "execution_count": null,
      "outputs": [
        {
          "output_type": "stream",
          "name": "stdout",
          "text": [
            "1\n"
          ]
        }
      ]
    },
    {
      "cell_type": "code",
      "source": [
        "print(x)\n",
        "x = 132\n",
        "y = 21.2\n",
        "print(x, y)"
      ],
      "metadata": {
        "colab": {
          "base_uri": "https://localhost:8080/"
        },
        "id": "VtKtyPEaJbiT",
        "outputId": "3fa9ef89-d521-4dcc-a2d6-9588ddc9a3a8"
      },
      "execution_count": null,
      "outputs": [
        {
          "output_type": "stream",
          "name": "stdout",
          "text": [
            "132\n",
            "132 21.2\n"
          ]
        }
      ]
    },
    {
      "cell_type": "code",
      "source": [
        "a = 1\n",
        "print(a)\n",
        "a = a + 1\n",
        "print(a)"
      ],
      "metadata": {
        "colab": {
          "base_uri": "https://localhost:8080/"
        },
        "id": "IFoR7GiXJb7C",
        "outputId": "e0dba09f-b38a-4230-894f-3da4284e452f"
      },
      "execution_count": null,
      "outputs": [
        {
          "output_type": "stream",
          "name": "stdout",
          "text": [
            "1\n",
            "2\n"
          ]
        }
      ]
    },
    {
      "cell_type": "code",
      "source": [
        "# Area of a circle\n",
        "radius = 3.0\n",
        "pi = 3.14\n",
        "area = pi * radius**2\n",
        "Area = \"area\"\n",
        "print(Area, area)"
      ],
      "metadata": {
        "colab": {
          "base_uri": "https://localhost:8080/"
        },
        "id": "xV6rCfoMMYb6",
        "outputId": "ce1559de-88ec-4884-a68c-9631849894bd"
      },
      "execution_count": null,
      "outputs": [
        {
          "output_type": "stream",
          "name": "stdout",
          "text": [
            "area 28.26\n"
          ]
        }
      ]
    },
    {
      "cell_type": "markdown",
      "source": [
        "Types\n",
        "type() and isinstance()"
      ],
      "metadata": {
        "id": "abNSrUdoPkW7"
      }
    },
    {
      "cell_type": "code",
      "source": [
        "x = 1.\n",
        "type(x)"
      ],
      "metadata": {
        "colab": {
          "base_uri": "https://localhost:8080/"
        },
        "id": "9mZlUmdMMtWj",
        "outputId": "c71285ea-0334-4e01-ddc2-2ba1a95f3a24"
      },
      "execution_count": null,
      "outputs": [
        {
          "output_type": "execute_result",
          "data": {
            "text/plain": [
              "float"
            ]
          },
          "metadata": {},
          "execution_count": 43
        }
      ]
    },
    {
      "cell_type": "code",
      "source": [
        "type(1)"
      ],
      "metadata": {
        "colab": {
          "base_uri": "https://localhost:8080/"
        },
        "id": "B0aZdkMjPq5J",
        "outputId": "5d40be26-f1df-469d-8abf-c9705f46b060"
      },
      "execution_count": null,
      "outputs": [
        {
          "output_type": "execute_result",
          "data": {
            "text/plain": [
              "int"
            ]
          },
          "metadata": {},
          "execution_count": 35
        }
      ]
    },
    {
      "cell_type": "code",
      "source": [
        "type(\"a\")"
      ],
      "metadata": {
        "colab": {
          "base_uri": "https://localhost:8080/"
        },
        "id": "oNGFwqdxPsB5",
        "outputId": "d548320b-98c2-43ff-8e93-4e31982930a2"
      },
      "execution_count": null,
      "outputs": [
        {
          "output_type": "execute_result",
          "data": {
            "text/plain": [
              "str"
            ]
          },
          "metadata": {},
          "execution_count": 39
        }
      ]
    },
    {
      "cell_type": "code",
      "source": [
        "y = False\n",
        "type(y)"
      ],
      "metadata": {
        "colab": {
          "base_uri": "https://localhost:8080/"
        },
        "id": "dp9AhFEGPsVx",
        "outputId": "0257ae4a-8b92-4ee8-f2de-64f1347277fd"
      },
      "execution_count": null,
      "outputs": [
        {
          "output_type": "execute_result",
          "data": {
            "text/plain": [
              "bool"
            ]
          },
          "metadata": {},
          "execution_count": 50
        }
      ]
    },
    {
      "cell_type": "code",
      "source": [
        "x = 5\n",
        "isinstance(x, int)"
      ],
      "metadata": {
        "colab": {
          "base_uri": "https://localhost:8080/"
        },
        "id": "Ja3Ur6jDRD0Y",
        "outputId": "163298d9-1785-4133-907c-5a5164d5ce0a"
      },
      "execution_count": null,
      "outputs": [
        {
          "output_type": "execute_result",
          "data": {
            "text/plain": [
              "True"
            ]
          },
          "metadata": {},
          "execution_count": 53
        }
      ]
    },
    {
      "cell_type": "code",
      "source": [
        "y = \"SCE\"\n",
        "isinstance(y, str)"
      ],
      "metadata": {
        "colab": {
          "base_uri": "https://localhost:8080/"
        },
        "id": "UdcjpNgyRkXK",
        "outputId": "8e1fd293-3022-4d38-af81-193cee193937"
      },
      "execution_count": null,
      "outputs": [
        {
          "output_type": "execute_result",
          "data": {
            "text/plain": [
              "True"
            ]
          },
          "metadata": {},
          "execution_count": 56
        }
      ]
    },
    {
      "cell_type": "code",
      "source": [
        "z = None\n",
        "print(z)\n",
        "print(type(z)) "
      ],
      "metadata": {
        "colab": {
          "base_uri": "https://localhost:8080/"
        },
        "id": "1ChWojYPR_np",
        "outputId": "b2b0c7fd-673e-4e3c-d269-943ebd6622e5"
      },
      "execution_count": null,
      "outputs": [
        {
          "output_type": "stream",
          "name": "stdout",
          "text": [
            "None\n",
            "<class 'NoneType'>\n"
          ]
        }
      ]
    },
    {
      "cell_type": "markdown",
      "source": [
        "Question:\n",
        "What the type of the following expressions?"
      ],
      "metadata": {
        "id": "N9KCH-F8TDnZ"
      }
    },
    {
      "cell_type": "code",
      "source": [
        "type(5//3)"
      ],
      "metadata": {
        "colab": {
          "base_uri": "https://localhost:8080/"
        },
        "id": "Ul9C-9sBTAYh",
        "outputId": "4599fd44-768b-4231-b04c-19bece33a1c7"
      },
      "execution_count": null,
      "outputs": [
        {
          "output_type": "execute_result",
          "data": {
            "text/plain": [
              "int"
            ]
          },
          "metadata": {},
          "execution_count": 64
        }
      ]
    },
    {
      "cell_type": "code",
      "source": [
        "type(5.0//3)"
      ],
      "metadata": {
        "colab": {
          "base_uri": "https://localhost:8080/"
        },
        "id": "HB5N1bx4TBRI",
        "outputId": "5c439ed1-2b82-43e7-b311-dc5accecf998"
      },
      "execution_count": null,
      "outputs": [
        {
          "output_type": "execute_result",
          "data": {
            "text/plain": [
              "float"
            ]
          },
          "metadata": {},
          "execution_count": 66
        }
      ]
    },
    {
      "cell_type": "code",
      "source": [
        "x = 3.9\n",
        "print(type(x))\n",
        "print(x)\n",
        "\n",
        "x = int(x)\n",
        "print(type(x))\n",
        "print(x)"
      ],
      "metadata": {
        "colab": {
          "base_uri": "https://localhost:8080/"
        },
        "id": "oD-ADBhgTbYx",
        "outputId": "04b2da93-92b1-4646-b2c4-f9483223ef0b"
      },
      "execution_count": null,
      "outputs": [
        {
          "output_type": "stream",
          "name": "stdout",
          "text": [
            "<class 'float'>\n",
            "3.9\n",
            "<class 'int'>\n",
            "3\n"
          ]
        }
      ]
    },
    {
      "cell_type": "code",
      "source": [
        "a = 1\n",
        "print(type(a))\n",
        "a = a + 1.0\n",
        "print(type(a))"
      ],
      "metadata": {
        "colab": {
          "base_uri": "https://localhost:8080/"
        },
        "id": "QkPBiA5EUpVY",
        "outputId": "652580fc-de48-46b2-d27c-a6179d099c30"
      },
      "execution_count": null,
      "outputs": [
        {
          "output_type": "stream",
          "name": "stdout",
          "text": [
            "<class 'int'>\n",
            "<class 'float'>\n"
          ]
        }
      ]
    },
    {
      "cell_type": "code",
      "source": [
        "z = 1-1j\n",
        "print(z)\n",
        "print(type(z))\n",
        "print(isinstance(z, complex))"
      ],
      "metadata": {
        "colab": {
          "base_uri": "https://localhost:8080/"
        },
        "id": "im1JNxcwVtCr",
        "outputId": "7448e93d-5636-4d12-c5df-10c799a18e5d"
      },
      "execution_count": null,
      "outputs": [
        {
          "output_type": "stream",
          "name": "stdout",
          "text": [
            "(1-1j)\n",
            "<class 'complex'>\n",
            "True\n"
          ]
        }
      ]
    },
    {
      "cell_type": "code",
      "source": [
        "z1 = 1+1j\n",
        "z2 = 0.1-5j\n",
        "z3 = z1 * z2\n",
        "print(z3)\n",
        "print(type(z3))"
      ],
      "metadata": {
        "colab": {
          "base_uri": "https://localhost:8080/"
        },
        "id": "6bJZQx1dWJjZ",
        "outputId": "1df547da-dab0-4362-eec3-0587d70a88d1"
      },
      "execution_count": null,
      "outputs": [
        {
          "output_type": "stream",
          "name": "stdout",
          "text": [
            "(5.1-4.9j)\n",
            "<class 'complex'>\n"
          ]
        }
      ]
    },
    {
      "cell_type": "code",
      "source": [
        "az = 19\n",
        "ca = 13\n",
        "print(az, ca) # 19 13  int int\n",
        "print(az + ca) # 32 # int\n",
        "print(float(az)) # 19.0 # float\n",
        "print(float(az) + ca) # 32.0 # float"
      ],
      "metadata": {
        "colab": {
          "base_uri": "https://localhost:8080/"
        },
        "id": "ZuU3BnndgLIP",
        "outputId": "c395ace3-cfad-4877-b9d6-1bf5c223a819"
      },
      "execution_count": null,
      "outputs": [
        {
          "output_type": "stream",
          "name": "stdout",
          "text": [
            "19 13\n",
            "32\n",
            "19.0\n",
            "32.0\n"
          ]
        }
      ]
    },
    {
      "cell_type": "markdown",
      "source": [
        "Assignments:"
      ],
      "metadata": {
        "id": "838cXkk6Wxph"
      }
    },
    {
      "cell_type": "code",
      "source": [
        "x, y = 1, \"dfkjghd\"\n",
        "print(x, y)"
      ],
      "metadata": {
        "colab": {
          "base_uri": "https://localhost:8080/"
        },
        "id": "dQx5KTQhW1CQ",
        "outputId": "09cf80a5-dc53-4ecd-ef7b-c82cbe23e211"
      },
      "execution_count": null,
      "outputs": [
        {
          "output_type": "stream",
          "name": "stdout",
          "text": [
            "1 dfkjghd\n"
          ]
        }
      ]
    },
    {
      "cell_type": "code",
      "source": [
        "None = \"Moshe\"\n",
        "\"None\" = \"Moshe\""
      ],
      "metadata": {
        "colab": {
          "base_uri": "https://localhost:8080/",
          "height": 131
        },
        "id": "ubRRfwspXFR5",
        "outputId": "823e0183-637e-4e16-b497-8c0aaef3d0bd"
      },
      "execution_count": null,
      "outputs": [
        {
          "output_type": "error",
          "ename": "SyntaxError",
          "evalue": "ignored",
          "traceback": [
            "\u001b[0;36m  File \u001b[0;32m\"<ipython-input-106-d2db18f9b1c4>\"\u001b[0;36m, line \u001b[0;32m1\u001b[0m\n\u001b[0;31m    None = \"Moshe\"\u001b[0m\n\u001b[0m    ^\u001b[0m\n\u001b[0;31mSyntaxError\u001b[0m\u001b[0;31m:\u001b[0m cannot assign to None\n"
          ]
        }
      ]
    },
    {
      "cell_type": "code",
      "source": [
        "4x = \"sdfg\""
      ],
      "metadata": {
        "colab": {
          "base_uri": "https://localhost:8080/",
          "height": 131
        },
        "id": "7lfHWpemXbjZ",
        "outputId": "133a9f25-954d-4e64-a7dd-e3171bb06d2c"
      },
      "execution_count": null,
      "outputs": [
        {
          "output_type": "error",
          "ename": "SyntaxError",
          "evalue": "ignored",
          "traceback": [
            "\u001b[0;36m  File \u001b[0;32m\"<ipython-input-112-c2f145130ab5>\"\u001b[0;36m, line \u001b[0;32m1\u001b[0m\n\u001b[0;31m    4x = \"sdfg\"\u001b[0m\n\u001b[0m     ^\u001b[0m\n\u001b[0;31mSyntaxError\u001b[0m\u001b[0;31m:\u001b[0m invalid syntax\n"
          ]
        }
      ]
    },
    {
      "cell_type": "code",
      "source": [
        "s_ = 12\n",
        "_s = 12\n",
        "aE4zDF = 789\n",
        "age_of_student = 29"
      ],
      "metadata": {
        "id": "gouKXPrjXjyY"
      },
      "execution_count": null,
      "outputs": []
    },
    {
      "cell_type": "markdown",
      "source": [
        "Problem: \n",
        "Wirte a program that calculates the harmonic mean of three numbers x, y and z"
      ],
      "metadata": {
        "id": "JQhu0arhegPQ"
      }
    },
    {
      "cell_type": "code",
      "source": [
        "x, y, z = 1, 2, 3\n",
        "# harmonic_mean = 3/(1/x + 1/y + 1/z)\n",
        "helper = 1/x + 1/y + 1/z \n",
        "harmonic_mean = 1/helper\n",
        "harmonic_mean *= 3 # harmonic_mean = 3 * harmonic_mean\n",
        "print(harmonic_mean)"
      ],
      "metadata": {
        "colab": {
          "base_uri": "https://localhost:8080/"
        },
        "id": "jQXrNPyheq3_",
        "outputId": "a5b18d43-659a-47a4-da29-26e205108367"
      },
      "execution_count": null,
      "outputs": [
        {
          "output_type": "stream",
          "name": "stdout",
          "text": [
            "1.6363636363636367\n"
          ]
        }
      ]
    },
    {
      "cell_type": "code",
      "source": [
        "a = 1\n",
        "a = a + 1"
      ],
      "metadata": {
        "id": "lHDDvKoifWfv"
      },
      "execution_count": null,
      "outputs": []
    },
    {
      "cell_type": "code",
      "source": [
        "# More concise\n",
        "a = 1\n",
        "a += 1 # a = a + 1 "
      ],
      "metadata": {
        "id": "yH5y9sOHfZVv"
      },
      "execution_count": null,
      "outputs": []
    },
    {
      "cell_type": "markdown",
      "source": [
        "Strings:"
      ],
      "metadata": {
        "id": "9nQF9oRtVnOK"
      }
    },
    {
      "cell_type": "code",
      "source": [
        "student_name = \"Alice\"\n",
        "age = 24\n",
        "degree = \"chemical\""
      ],
      "metadata": {
        "id": "eAvcShsmVH9g"
      },
      "execution_count": null,
      "outputs": []
    },
    {
      "cell_type": "code",
      "source": [
        "print(student_name[:]) # Alice\n",
        "print(student_name[2:]) # ice\n",
        "print(student_name[1]) # l\n",
        "# print(student_name[5]) # IndexError\n",
        "print(degree[-2:-1]) # a\n",
        "print(degree[0:5]) # chemi\n",
        "print(degree[:5]) # chemi"
      ],
      "metadata": {
        "colab": {
          "base_uri": "https://localhost:8080/"
        },
        "id": "rPANgaUxi0a1",
        "outputId": "1c906e3e-32f4-4b27-d50c-4b714cb97603"
      },
      "execution_count": null,
      "outputs": [
        {
          "output_type": "stream",
          "name": "stdout",
          "text": [
            "Alice\n",
            "ice\n",
            "l\n",
            "a\n",
            "chemi\n",
            "chemi\n"
          ]
        }
      ]
    },
    {
      "cell_type": "markdown",
      "source": [
        "More in strings:\n",
        "https://docs.python.org/3/library/stdtypes.html#text-sequence-type-str\n",
        "\n"
      ],
      "metadata": {
        "id": "_VwValfnlbiG"
      }
    },
    {
      "cell_type": "code",
      "source": [
        "# Methods:\n",
        "# 1. str.<method>(<some_string>, <optional arguments>)\n",
        "# 2. <some_string>.<method>(<optional arguments>)\n",
        "\n",
        "s1 = \"Learning strings\"\n",
        "s2 = str.lower(s1)\n",
        "s2 = s1.lower()\n",
        "# print(s2)\n",
        "print(s1)\n",
        "s1 = \"learning strings\"\n",
        "print(s1)"
      ],
      "metadata": {
        "colab": {
          "base_uri": "https://localhost:8080/"
        },
        "id": "M541A4Ewl169",
        "outputId": "521be3cc-d871-424e-bd40-b06ae54a832b"
      },
      "execution_count": null,
      "outputs": [
        {
          "output_type": "stream",
          "name": "stdout",
          "text": [
            "Learning strings\n",
            "learning strings\n"
          ]
        }
      ]
    },
    {
      "cell_type": "code",
      "source": [
        "print(len(s1))"
      ],
      "metadata": {
        "id": "tMxGlVZUooZ8",
        "outputId": "cdf5ab67-aca6-4f75-e218-90218ef6c363",
        "colab": {
          "base_uri": "https://localhost:8080/"
        }
      },
      "execution_count": null,
      "outputs": [
        {
          "output_type": "stream",
          "name": "stdout",
          "text": [
            "16\n"
          ]
        }
      ]
    }
  ]
}