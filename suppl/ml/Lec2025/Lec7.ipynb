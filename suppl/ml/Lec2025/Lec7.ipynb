{
 "cells": [
  {
   "cell_type": "code",
   "id": "initial_id",
   "metadata": {
    "collapsed": true,
    "ExecuteTime": {
     "end_time": "2025-04-28T12:13:08.102532Z",
     "start_time": "2025-04-28T12:13:08.097754Z"
    }
   },
   "source": [
    "import numpy as np\n",
    "import matplotlib.pyplot as plt\n",
    "import seaborn as sns\n",
    "import pandas as pd\n"
   ],
   "outputs": [],
   "execution_count": 64
  },
  {
   "metadata": {
    "ExecuteTime": {
     "end_time": "2025-04-28T12:13:08.225380Z",
     "start_time": "2025-04-28T12:13:08.133783Z"
    }
   },
   "cell_type": "code",
   "source": [
    "np.random.seed(0)\n",
    "def create_dataset(N=100):\n",
    "    a = np.random.multivariate_normal([1, 0], [[3, 1], [1, 4]], size=[N,])\n",
    "    b = np.random.multivariate_normal([0, 5], [[3, 1], [1, 4]], size=[N,])\n",
    "    X = np.vstack((a, b))\n",
    "    y = np.hstack((np.zeros(N), np.ones(N))).reshape(-1, 1)\n",
    "    return X, y\n",
    "X, y = create_dataset()\n",
    "plt.figure(figsize=(3, 2))\n",
    "plt.scatter(X[:, 0], X[:, 1], c=y)\n",
    "plt.xlabel('$x_1$')\n",
    "plt.ylabel('$x_2$')\n",
    "plt.grid()\n",
    "plt.show()\n",
    "print(y.shape)"
   ],
   "id": "cf4d0b7754dd67a6",
   "outputs": [
    {
     "data": {
      "text/plain": [
       "<Figure size 300x200 with 1 Axes>"
      ],
      "image/png": "[encoded data removed]"
     },
     "metadata": {},
     "output_type": "display_data"
    },
    {
     "name": "stdout",
     "output_type": "stream",
     "text": [
      "(200, 1)\n"
     ]
    }
   ],
   "execution_count": 65
  },
  {
   "metadata": {
    "ExecuteTime": {
     "end_time": "2025-04-28T12:13:08.287498Z",
     "start_time": "2025-04-28T12:13:08.257861Z"
    }
   },
   "cell_type": "code",
   "source": [
    "def sigmoid(x):\n",
    "  return 1 / (1 + np.exp(-x))\n",
    "\n",
    "def loss_function(X, y, w):\n",
    "  M = X.shape[0] # number of points in dataset\n",
    "  y_hat = sigmoid(X @ w)\n",
    "  loss = -1/M * (y.T @ np.log(y_hat) + (1 - y).T @ np.log(1 - y_hat))\n",
    "  grad = 1/M * X.T @ (y_hat - y)\n",
    "  return loss, grad\n",
    "\n",
    "def gradient_descent(X, y, learning_rate=0.01, max_iter=1000):\n",
    "  w = np.zeros((X.shape[1],1))\n",
    "  loss_history = []\n",
    "  for i in range(max_iter):\n",
    "    loss, grad = loss_function(X, y, w)\n",
    "    w = w - learning_rate * grad\n",
    "    loss_history.append(loss)\n",
    "  return w, loss_history\n",
    "\n",
    "def add_ones(X):\n",
    "  M = X.shape[0]\n",
    "  return np.hstack((np.ones((M, 1)), X))\n",
    "\n",
    "def logistic_reg(X,y):\n",
    "  X1 = add_ones(X)\n",
    "  w, _ = gradient_descent(X1, y)\n",
    "  return w\n",
    "w = logistic_reg(X, y)\n",
    "print(w)"
   ],
   "id": "f8fdde2cd39b0171",
   "outputs": [
    {
     "name": "stdout",
     "output_type": "stream",
     "text": [
      "[[-0.88435066]\n",
      " [-0.75160453]\n",
      " [ 0.76211684]]\n"
     ]
    }
   ],
   "execution_count": 66
  },
  {
   "metadata": {
    "ExecuteTime": {
     "end_time": "2025-04-28T12:14:05.665846Z",
     "start_time": "2025-04-28T12:14:05.654672Z"
    }
   },
   "cell_type": "code",
   "source": [
    "Xtest, ytest = create_dataset(10000)\n",
    "Xtest1 = add_ones(Xtest)\n",
    "yhat = sigmoid(Xtest1 @ w)\n",
    "\n",
    "# metrics\n",
    "def accuracy(y, yhat, thr=0.5):\n",
    "    return np.mean((yhat > thr) == y)\n",
    "\n",
    "def precision(y, yhat, thr=0.5):\n",
    "    if np.sum(yhat > thr) == np.sum((yhat > thr) & (y == 1)):\n",
    "        return 1.0\n",
    "    return np.sum((yhat > thr) & (y == 1)) / np.sum(yhat > thr)\n",
    "\n",
    "def recall(y, yhat, thr=0.5):\n",
    "    return np.sum((yhat > thr) & (y == 1)) / np.sum(y == 1)\n",
    "\n",
    "def f1_score(y, yhat, thr=0.5):\n",
    "    p = precision(y, yhat, thr=thr)\n",
    "    r = recall(y, yhat, thr=thr)\n",
    "    return 2 * p * r / (p + r)\n",
    "\n",
    "def specificity(y, yhat, thr=0.5):\n",
    "    return np.sum((yhat <= thr) & (y == 0)) / np.sum(y == 0)\n",
    "\n",
    "def confusion_matrix(y, yhat, thr=0.5):\n",
    "    TP = np.sum((yhat > thr) & (y == 1))\n",
    "    TN = np.sum((yhat <= thr) & (y == 0))\n",
    "    FP = np.sum((yhat > thr) & (y == 0))\n",
    "    FN = np.sum((yhat <= thr) & (y == 1))\n",
    "    return np.array([[TP, FP], [FN, TN]])\n",
    "\n",
    "acc = accuracy(ytest, yhat)\n",
    "prec = precision(ytest, yhat)\n",
    "rec = recall(ytest, yhat)\n",
    "f1 = f1_score(ytest, yhat)\n",
    "cm = confusion_matrix(ytest, yhat)\n",
    "sp = specificity(ytest, yhat)\n",
    "print(f'Accuracy: {acc:.3f}')\n",
    "print(f'Precision: {prec:.3f}')\n",
    "print(f'Recall: {rec:.3f}')\n",
    "print(f'Specificity: {sp:.3f}')\n",
    "print(f'F1 Score: {f1:.3f}')\n",
    "print('Confusion Matrix:')\n",
    "print(cm)"
   ],
   "id": "6d00ede575f28c74",
   "outputs": [
    {
     "name": "stdout",
     "output_type": "stream",
     "text": [
      "Accuracy: 0.899\n",
      "Precision: 0.856\n",
      "Recall: 0.958\n",
      "Specificity: 0.839\n",
      "F1 Score: 0.904\n",
      "Confusion Matrix:\n",
      "[[9581 1608]\n",
      " [ 419 8392]]\n"
     ]
    }
   ],
   "execution_count": 71
  },
  {
   "metadata": {
    "ExecuteTime": {
     "end_time": "2025-04-28T12:14:16.650931Z",
     "start_time": "2025-04-28T12:14:16.642517Z"
    }
   },
   "cell_type": "code",
   "source": [
    "for thr in [0.9, 0.5, 0.1]:\n",
    "    acc = accuracy(ytest, yhat, thr=thr)\n",
    "    prec = precision(ytest, yhat, thr=thr)\n",
    "    rec = recall(ytest, yhat, thr=thr)\n",
    "    f1 = f1_score(ytest, yhat, thr=thr)\n",
    "    sp = specificity(ytest, yhat, thr=thr)\n",
    "    cm = confusion_matrix(ytest, yhat, thr=thr)\n",
    "    print(f'Thr: {thr:.1f}')\n",
    "    print(f'Accuracy: {acc:.3f}')\n",
    "    print(f'Precision: {prec:.3f}')\n",
    "    print(f'Recall: {rec:.3f}')\n",
    "    print(f'Specificity: {sp:.3f}')\n",
    "    print(f'F1 Score: {f1:.3f}')\n",
    "    print('Confusion Matrix:')\n",
    "    print(cm)\n",
    "    print('---')"
   ],
   "id": "3a56821ab5a9c21c",
   "outputs": [
    {
     "name": "stdout",
     "output_type": "stream",
     "text": [
      "Thr: 0.9\n",
      "Accuracy: 0.829\n",
      "Precision: 0.980\n",
      "Recall: 0.672\n",
      "Specificity: 0.987\n",
      "F1 Score: 0.797\n",
      "Confusion Matrix:\n",
      "[[6721  135]\n",
      " [3279 9865]]\n",
      "---\n",
      "Thr: 0.5\n",
      "Accuracy: 0.899\n",
      "Precision: 0.856\n",
      "Recall: 0.958\n",
      "Specificity: 0.839\n",
      "F1 Score: 0.904\n",
      "Confusion Matrix:\n",
      "[[9581 1608]\n",
      " [ 419 8392]]\n",
      "---\n",
      "Thr: 0.1\n",
      "Accuracy: 0.689\n",
      "Precision: 0.616\n",
      "Recall: 0.999\n",
      "Specificity: 0.378\n",
      "F1 Score: 0.762\n",
      "Confusion Matrix:\n",
      "[[9991 6218]\n",
      " [   9 3782]]\n",
      "---\n"
     ]
    }
   ],
   "execution_count": 72
  },
  {
   "metadata": {
    "ExecuteTime": {
     "end_time": "2025-04-28T12:13:08.541263Z",
     "start_time": "2025-04-28T12:13:08.426219Z"
    }
   },
   "cell_type": "code",
   "source": [
    "# roc curve\n",
    "thrs = np.r_[0:1:200j]\n",
    "tpr = np.array([recall(ytest, yhat, thr=t) for t in thrs])\n",
    "fpr = np.array([1 - precision(ytest, yhat, thr=t) for t in thrs])\n",
    "plt.figure(figsize=(3, 2))\n",
    "plt.plot(fpr, tpr,'.')\n",
    "plt.xlabel('False Positive Rate')\n",
    "plt.ylabel('True Positive Rate')\n",
    "plt.title('ROC Curve')\n",
    "plt.xlim(0, 1.01)\n",
    "plt.ylim(0, 1.01)\n",
    "plt.axis('equal')\n",
    "plt.grid()\n",
    "plt.show()"
   ],
   "id": "513fd7dd1c328497",
   "outputs": [
    {
     "data": {
      "text/plain": [
       "<Figure size 300x200 with 1 Axes>"
      ],
      "image/png": "[encoded data removed]"
     },
     "metadata": {},
     "output_type": "display_data"
    }
   ],
   "execution_count": 69
  }
 ],
 "metadata": {
  "kernelspec": {
   "display_name": "Python 3",
   "language": "python",
   "name": "python3"
  },
  "language_info": {
   "codemirror_mode": {
    "name": "ipython",
    "version": 2
   },
   "file_extension": ".py",
   "mimetype": "text/x-python",
   "name": "python",
   "nbconvert_exporter": "python",
   "pygments_lexer": "ipython2",
   "version": "2.7.6"
  }
 },
 "nbformat": 4,
 "nbformat_minor": 5
}
